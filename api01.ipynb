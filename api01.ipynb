{
 "cells": [
  {
   "cell_type": "code",
   "execution_count": null,
   "metadata": {},
   "outputs": [],
   "source": []
  },
  {
   "cell_type": "markdown",
   "metadata": {},
   "source": [
    "https://api.openweathermap.org/data/2.5/weather?q={city name}&appid={API key}"
   ]
  },
  {
   "cell_type": "markdown",
   "metadata": {},
   "source": [
    "API_Key= 95a93650a4750fe7c2bc20df35bc5461\n",
    "\n"
   ]
  },
  {
   "cell_type": "code",
   "execution_count": 8,
   "metadata": {},
   "outputs": [],
   "source": [
    "import requests\n",
    "\n",
    "API_Key= '95a93650a4750fe7c2bc20df35bc5461'\n",
    "\n",
    "city_name= input(\"Enter city name\")\n",
    "\n",
    "\n"
   ]
  },
  {
   "cell_type": "code",
   "execution_count": 9,
   "metadata": {},
   "outputs": [
    {
     "name": "stdout",
     "output_type": "stream",
     "text": [
      "Clear\n",
      "305.42\n",
      "17\n"
     ]
    },
    {
     "data": {
      "text/plain": [
       "<Response [200]>"
      ]
     },
     "execution_count": 9,
     "metadata": {},
     "output_type": "execute_result"
    }
   ],
   "source": [
    "weather_data= requests.get(f\"https://api.openweathermap.org/data/2.5/weather?q={city_name}&appid={API_Key}\")\n",
    "\n",
    "if weather_data.json()['cod']=='404':\n",
    "    print(\"Enter correct city  name\")\n",
    "else:\n",
    "    weather=weather_data.json()['weather'][0]['main']\n",
    "    print(weather)\n",
    "    temp=weather_data.json()['main']['temp']\n",
    "    print(temp)\n",
    "    humidity= weather_data.json()['main']['humidity']\n",
    "    print(humidity)\n",
    "weather_data"
   ]
  },
  {
   "cell_type": "code",
   "execution_count": null,
   "metadata": {},
   "outputs": [],
   "source": []
  }
 ],
 "metadata": {
  "kernelspec": {
   "display_name": "Python 3",
   "language": "python",
   "name": "python3"
  },
  "language_info": {
   "codemirror_mode": {
    "name": "ipython",
    "version": 3
   },
   "file_extension": ".py",
   "mimetype": "text/x-python",
   "name": "python",
   "nbconvert_exporter": "python",
   "pygments_lexer": "ipython3",
   "version": "3.11.4"
  }
 },
 "nbformat": 4,
 "nbformat_minor": 2
}
